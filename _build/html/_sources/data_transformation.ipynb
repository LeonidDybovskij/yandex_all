{
 "cells": [
  {
   "cell_type": "markdown",
   "id": "3e8bd892",
   "metadata": {},
   "source": [
    "# Protection of customers' personal data"
   ]
  },
  {
   "cell_type": "markdown",
   "id": "a8bf0c17",
   "metadata": {},
   "source": [
    "There is data from insurance company customers on which predictions are made.\n",
    "\n",
    "It is required to convert them into a format from which it will be difficult to extract personal information.\n",
    "\n",
    "At the same time, the quality of machine learning models should not drop."
   ]
  },
  {
   "cell_type": "code",
   "execution_count": 1,
   "id": "720b7c21",
   "metadata": {},
   "outputs": [],
   "source": [
    "import pandas as pd\n",
    "import numpy as np\n",
    "import seaborn as sb\n",
    "\n",
    "import matplotlib\n",
    "from matplotlib import pyplot as plt\n",
    "from matplotlib import patches as mpatches\n",
    "from matplotlib.ticker import MaxNLocator\n",
    "\n",
    "import sklearn\n",
    "from sklearn import metrics, model_selection, preprocessing, tree, linear_model, ensemble\n",
    "from sklearn.metrics import r2_score\n",
    "from sklearn.model_selection import GridSearchCV, train_test_split\n",
    "from sklearn.preprocessing import StandardScaler\n",
    "from sklearn.tree import DecisionTreeRegressor, DecisionTreeClassifier\n",
    "from sklearn.linear_model import LinearRegression, LogisticRegression\n",
    "from sklearn.ensemble import RandomForestRegressor, RandomForestClassifier"
   ]
  },
  {
   "cell_type": "code",
   "execution_count": 2,
   "id": "e69eaa3a",
   "metadata": {},
   "outputs": [],
   "source": [
    "np.random.seed(57)"
   ]
  },
  {
   "cell_type": "markdown",
   "id": "a1676fc3",
   "metadata": {},
   "source": [
    "## Data description"
   ]
  },
  {
   "cell_type": "code",
   "execution_count": 3,
   "id": "d8f35b3e",
   "metadata": {},
   "outputs": [],
   "source": [
    "try:\n",
    "    data = pd.read_csv('insurance.csv')\n",
    "except:\n",
    "    data = pd.read_csv('/datasets/insurance.csv')"
   ]
  },
  {
   "cell_type": "code",
   "execution_count": 4,
   "id": "d2bd36ba",
   "metadata": {},
   "outputs": [
    {
     "data": {
      "text/html": [
       "<div>\n",
       "<style scoped>\n",
       "    .dataframe tbody tr th:only-of-type {\n",
       "        vertical-align: middle;\n",
       "    }\n",
       "\n",
       "    .dataframe tbody tr th {\n",
       "        vertical-align: top;\n",
       "    }\n",
       "\n",
       "    .dataframe thead th {\n",
       "        text-align: right;\n",
       "    }\n",
       "</style>\n",
       "<table border=\"1\" class=\"dataframe\">\n",
       "  <thead>\n",
       "    <tr style=\"text-align: right;\">\n",
       "      <th></th>\n",
       "      <th>Gender</th>\n",
       "      <th>Age</th>\n",
       "      <th>Salary</th>\n",
       "      <th>Family members</th>\n",
       "      <th>Insurance payments</th>\n",
       "    </tr>\n",
       "  </thead>\n",
       "  <tbody>\n",
       "    <tr>\n",
       "      <th>0</th>\n",
       "      <td>1</td>\n",
       "      <td>41.0</td>\n",
       "      <td>49600.0</td>\n",
       "      <td>1</td>\n",
       "      <td>0</td>\n",
       "    </tr>\n",
       "    <tr>\n",
       "      <th>1</th>\n",
       "      <td>0</td>\n",
       "      <td>46.0</td>\n",
       "      <td>38000.0</td>\n",
       "      <td>1</td>\n",
       "      <td>1</td>\n",
       "    </tr>\n",
       "    <tr>\n",
       "      <th>2</th>\n",
       "      <td>0</td>\n",
       "      <td>29.0</td>\n",
       "      <td>21000.0</td>\n",
       "      <td>0</td>\n",
       "      <td>0</td>\n",
       "    </tr>\n",
       "    <tr>\n",
       "      <th>3</th>\n",
       "      <td>0</td>\n",
       "      <td>21.0</td>\n",
       "      <td>41700.0</td>\n",
       "      <td>2</td>\n",
       "      <td>0</td>\n",
       "    </tr>\n",
       "    <tr>\n",
       "      <th>4</th>\n",
       "      <td>1</td>\n",
       "      <td>28.0</td>\n",
       "      <td>26100.0</td>\n",
       "      <td>0</td>\n",
       "      <td>0</td>\n",
       "    </tr>\n",
       "    <tr>\n",
       "      <th>...</th>\n",
       "      <td>...</td>\n",
       "      <td>...</td>\n",
       "      <td>...</td>\n",
       "      <td>...</td>\n",
       "      <td>...</td>\n",
       "    </tr>\n",
       "    <tr>\n",
       "      <th>4995</th>\n",
       "      <td>0</td>\n",
       "      <td>28.0</td>\n",
       "      <td>35700.0</td>\n",
       "      <td>2</td>\n",
       "      <td>0</td>\n",
       "    </tr>\n",
       "    <tr>\n",
       "      <th>4996</th>\n",
       "      <td>0</td>\n",
       "      <td>34.0</td>\n",
       "      <td>52400.0</td>\n",
       "      <td>1</td>\n",
       "      <td>0</td>\n",
       "    </tr>\n",
       "    <tr>\n",
       "      <th>4997</th>\n",
       "      <td>0</td>\n",
       "      <td>20.0</td>\n",
       "      <td>33900.0</td>\n",
       "      <td>2</td>\n",
       "      <td>0</td>\n",
       "    </tr>\n",
       "    <tr>\n",
       "      <th>4998</th>\n",
       "      <td>1</td>\n",
       "      <td>22.0</td>\n",
       "      <td>32700.0</td>\n",
       "      <td>3</td>\n",
       "      <td>0</td>\n",
       "    </tr>\n",
       "    <tr>\n",
       "      <th>4999</th>\n",
       "      <td>1</td>\n",
       "      <td>28.0</td>\n",
       "      <td>40600.0</td>\n",
       "      <td>1</td>\n",
       "      <td>0</td>\n",
       "    </tr>\n",
       "  </tbody>\n",
       "</table>\n",
       "<p>5000 rows × 5 columns</p>\n",
       "</div>"
      ],
      "text/plain": [
       "      Gender   Age   Salary  Family members  Insurance payments\n",
       "0          1  41.0  49600.0               1                   0\n",
       "1          0  46.0  38000.0               1                   1\n",
       "2          0  29.0  21000.0               0                   0\n",
       "3          0  21.0  41700.0               2                   0\n",
       "4          1  28.0  26100.0               0                   0\n",
       "...      ...   ...      ...             ...                 ...\n",
       "4995       0  28.0  35700.0               2                   0\n",
       "4996       0  34.0  52400.0               1                   0\n",
       "4997       0  20.0  33900.0               2                   0\n",
       "4998       1  22.0  32700.0               3                   0\n",
       "4999       1  28.0  40600.0               1                   0\n",
       "\n",
       "[5000 rows x 5 columns]"
      ]
     },
     "execution_count": 4,
     "metadata": {},
     "output_type": "execute_result"
    }
   ],
   "source": [
    "data"
   ]
  },
  {
   "cell_type": "markdown",
   "id": "fe392ac2",
   "metadata": {},
   "source": [
    "Here the target attribute (insurance payments) reflects the number of insurance payments to the client in the last 5 years."
   ]
  },
  {
   "cell_type": "code",
   "execution_count": 5,
   "id": "84bbebe4",
   "metadata": {},
   "outputs": [
    {
     "data": {
      "text/plain": [
       "Gender                  2\n",
       "Age                    46\n",
       "Salary                524\n",
       "Family members          7\n",
       "Insurance payments      6\n",
       "dtype: int64"
      ]
     },
     "execution_count": 5,
     "metadata": {},
     "output_type": "execute_result"
    }
   ],
   "source": [
    "data.nunique()"
   ]
  },
  {
   "cell_type": "code",
   "execution_count": 6,
   "id": "c1a32fef",
   "metadata": {},
   "outputs": [],
   "source": [
    "def barplot_from_counts(series):\n",
    "    series.index = series.index.map(str)\n",
    "    legend = []\n",
    "    for row in range(len(series)):\n",
    "        legend.append(mpatches.Patch(\n",
    "            color=plt.colormaps.get_cmap('Set1').colors[row], \n",
    "            label='{}: {}'.format(series.index[row], series.iloc[row])))\n",
    "    fig, ax = plt.subplots()\n",
    "    plt.bar(x=series.index, \n",
    "            height=series.values, \n",
    "            color=plt.colormaps.get_cmap('Set1').colors)\n",
    "    ax.xaxis.set_major_locator(MaxNLocator(integer=True))\n",
    "    plt.title(series.name)\n",
    "    plt.legend(handles=legend)\n",
    "    plt.show()"
   ]
  },
  {
   "cell_type": "raw",
   "id": "0c8a9beb",
   "metadata": {},
   "source": [
    "plt.style.use('ggplot')\n",
    "# plt.style.use('default')"
   ]
  },
  {
   "cell_type": "code",
   "execution_count": 7,
   "id": "8655fd7d",
   "metadata": {},
   "outputs": [
    {
     "data": {
      "image/png": "[encoded data removed]",
      "text/plain": [
       "<Figure size 640x480 with 1 Axes>"
      ]
     },
     "metadata": {},
     "output_type": "display_data"
    }
   ],
   "source": [
    "gender = data['Gender'].value_counts()\n",
    "barplot_from_counts(data['Gender'].value_counts())"
   ]
  },
  {
   "cell_type": "code",
   "execution_count": 8,
   "id": "76e5ce27",
   "metadata": {},
   "outputs": [
    {
     "data": {
      "image/png": "[encoded data removed]",
      "text/plain": [
       "<Figure size 640x480 with 1 Axes>"
      ]
     },
     "metadata": {},
     "output_type": "display_data"
    }
   ],
   "source": [
    "data['Age'].hist()\n",
    "plt.axvline(x=data['Age'].mean(), color='red')\n",
    "plt.show()"
   ]
  },
  {
   "cell_type": "code",
   "execution_count": 9,
   "id": "1ac76ee3",
   "metadata": {},
   "outputs": [
    {
     "data": {
      "image/png": "[encoded data removed]",
      "text/plain": [
       "<Figure size 640x480 with 1 Axes>"
      ]
     },
     "metadata": {},
     "output_type": "display_data"
    }
   ],
   "source": [
    "data['Salary'].hist()\n",
    "plt.axvline(x=data['Salary'].mean(), color='red')\n",
    "plt.show()"
   ]
  },
  {
   "cell_type": "code",
   "execution_count": 10,
   "id": "2b8c4af4",
   "metadata": {},
   "outputs": [
    {
     "data": {
      "image/png": "[encoded data removed]",
      "text/plain": [
       "<Figure size 640x480 with 1 Axes>"
      ]
     },
     "metadata": {},
     "output_type": "display_data"
    }
   ],
   "source": [
    "family = data['Family members'].value_counts()\n",
    "barplot_from_counts(family)"
   ]
  },
  {
   "cell_type": "code",
   "execution_count": 11,
   "id": "e58cfb90",
   "metadata": {},
   "outputs": [
    {
     "data": {
      "image/png": "[encoded data removed]",
      "text/plain": [
       "<Figure size 640x480 with 1 Axes>"
      ]
     },
     "metadata": {},
     "output_type": "display_data"
    }
   ],
   "source": [
    "payments = data['Insurance payments'].value_counts()\n",
    "barplot_from_counts(payments)"
   ]
  },
  {
   "cell_type": "markdown",
   "id": "0aa04270",
   "metadata": {},
   "source": [
    "## Missing values and duplicates"
   ]
  },
  {
   "cell_type": "code",
   "execution_count": 12,
   "id": "092ed047",
   "metadata": {},
   "outputs": [
    {
     "data": {
      "text/plain": [
       "Gender                0\n",
       "Age                   0\n",
       "Salary                0\n",
       "Family members        0\n",
       "Insurance payments    0\n",
       "dtype: int64"
      ]
     },
     "execution_count": 12,
     "metadata": {},
     "output_type": "execute_result"
    }
   ],
   "source": [
    "data.isna().sum()"
   ]
  },
  {
   "cell_type": "code",
   "execution_count": 13,
   "id": "b0dc9346",
   "metadata": {},
   "outputs": [
    {
     "data": {
      "text/html": [
       "<div>\n",
       "<style scoped>\n",
       "    .dataframe tbody tr th:only-of-type {\n",
       "        vertical-align: middle;\n",
       "    }\n",
       "\n",
       "    .dataframe tbody tr th {\n",
       "        vertical-align: top;\n",
       "    }\n",
       "\n",
       "    .dataframe thead th {\n",
       "        text-align: right;\n",
       "    }\n",
       "</style>\n",
       "<table border=\"1\" class=\"dataframe\">\n",
       "  <thead>\n",
       "    <tr style=\"text-align: right;\">\n",
       "      <th></th>\n",
       "      <th>Gender</th>\n",
       "      <th>Age</th>\n",
       "      <th>Salary</th>\n",
       "      <th>Family members</th>\n",
       "      <th>Insurance payments</th>\n",
       "    </tr>\n",
       "  </thead>\n",
       "  <tbody>\n",
       "    <tr>\n",
       "      <th>281</th>\n",
       "      <td>1</td>\n",
       "      <td>39.0</td>\n",
       "      <td>48100.0</td>\n",
       "      <td>1</td>\n",
       "      <td>0</td>\n",
       "    </tr>\n",
       "    <tr>\n",
       "      <th>488</th>\n",
       "      <td>1</td>\n",
       "      <td>24.0</td>\n",
       "      <td>32900.0</td>\n",
       "      <td>1</td>\n",
       "      <td>0</td>\n",
       "    </tr>\n",
       "    <tr>\n",
       "      <th>513</th>\n",
       "      <td>0</td>\n",
       "      <td>31.0</td>\n",
       "      <td>37400.0</td>\n",
       "      <td>2</td>\n",
       "      <td>0</td>\n",
       "    </tr>\n",
       "    <tr>\n",
       "      <th>718</th>\n",
       "      <td>1</td>\n",
       "      <td>22.0</td>\n",
       "      <td>32600.0</td>\n",
       "      <td>1</td>\n",
       "      <td>0</td>\n",
       "    </tr>\n",
       "    <tr>\n",
       "      <th>785</th>\n",
       "      <td>0</td>\n",
       "      <td>20.0</td>\n",
       "      <td>35800.0</td>\n",
       "      <td>0</td>\n",
       "      <td>0</td>\n",
       "    </tr>\n",
       "    <tr>\n",
       "      <th>...</th>\n",
       "      <td>...</td>\n",
       "      <td>...</td>\n",
       "      <td>...</td>\n",
       "      <td>...</td>\n",
       "      <td>...</td>\n",
       "    </tr>\n",
       "    <tr>\n",
       "      <th>4793</th>\n",
       "      <td>1</td>\n",
       "      <td>24.0</td>\n",
       "      <td>37800.0</td>\n",
       "      <td>0</td>\n",
       "      <td>0</td>\n",
       "    </tr>\n",
       "    <tr>\n",
       "      <th>4902</th>\n",
       "      <td>1</td>\n",
       "      <td>35.0</td>\n",
       "      <td>38700.0</td>\n",
       "      <td>1</td>\n",
       "      <td>0</td>\n",
       "    </tr>\n",
       "    <tr>\n",
       "      <th>4935</th>\n",
       "      <td>1</td>\n",
       "      <td>19.0</td>\n",
       "      <td>32700.0</td>\n",
       "      <td>0</td>\n",
       "      <td>0</td>\n",
       "    </tr>\n",
       "    <tr>\n",
       "      <th>4945</th>\n",
       "      <td>1</td>\n",
       "      <td>21.0</td>\n",
       "      <td>45800.0</td>\n",
       "      <td>0</td>\n",
       "      <td>0</td>\n",
       "    </tr>\n",
       "    <tr>\n",
       "      <th>4965</th>\n",
       "      <td>0</td>\n",
       "      <td>22.0</td>\n",
       "      <td>40100.0</td>\n",
       "      <td>1</td>\n",
       "      <td>0</td>\n",
       "    </tr>\n",
       "  </tbody>\n",
       "</table>\n",
       "<p>153 rows × 5 columns</p>\n",
       "</div>"
      ],
      "text/plain": [
       "      Gender   Age   Salary  Family members  Insurance payments\n",
       "281        1  39.0  48100.0               1                   0\n",
       "488        1  24.0  32900.0               1                   0\n",
       "513        0  31.0  37400.0               2                   0\n",
       "718        1  22.0  32600.0               1                   0\n",
       "785        0  20.0  35800.0               0                   0\n",
       "...      ...   ...      ...             ...                 ...\n",
       "4793       1  24.0  37800.0               0                   0\n",
       "4902       1  35.0  38700.0               1                   0\n",
       "4935       1  19.0  32700.0               0                   0\n",
       "4945       1  21.0  45800.0               0                   0\n",
       "4965       0  22.0  40100.0               1                   0\n",
       "\n",
       "[153 rows x 5 columns]"
      ]
     },
     "execution_count": 13,
     "metadata": {},
     "output_type": "execute_result"
    }
   ],
   "source": [
    "data[data.duplicated()]"
   ]
  },
  {
   "cell_type": "code",
   "execution_count": 14,
   "id": "ecedd322",
   "metadata": {},
   "outputs": [
    {
     "data": {
      "text/html": [
       "<div>\n",
       "<style scoped>\n",
       "    .dataframe tbody tr th:only-of-type {\n",
       "        vertical-align: middle;\n",
       "    }\n",
       "\n",
       "    .dataframe tbody tr th {\n",
       "        vertical-align: top;\n",
       "    }\n",
       "\n",
       "    .dataframe thead th {\n",
       "        text-align: right;\n",
       "    }\n",
       "</style>\n",
       "<table border=\"1\" class=\"dataframe\">\n",
       "  <thead>\n",
       "    <tr style=\"text-align: right;\">\n",
       "      <th></th>\n",
       "      <th>Gender</th>\n",
       "      <th>Age</th>\n",
       "      <th>Salary</th>\n",
       "      <th>Family members</th>\n",
       "      <th>Insurance payments</th>\n",
       "    </tr>\n",
       "  </thead>\n",
       "  <tbody>\n",
       "    <tr>\n",
       "      <th>69</th>\n",
       "      <td>1</td>\n",
       "      <td>39.0</td>\n",
       "      <td>48100.0</td>\n",
       "      <td>1</td>\n",
       "      <td>0</td>\n",
       "    </tr>\n",
       "    <tr>\n",
       "      <th>281</th>\n",
       "      <td>1</td>\n",
       "      <td>39.0</td>\n",
       "      <td>48100.0</td>\n",
       "      <td>1</td>\n",
       "      <td>0</td>\n",
       "    </tr>\n",
       "    <tr>\n",
       "      <th>434</th>\n",
       "      <td>1</td>\n",
       "      <td>32.0</td>\n",
       "      <td>48100.0</td>\n",
       "      <td>2</td>\n",
       "      <td>0</td>\n",
       "    </tr>\n",
       "    <tr>\n",
       "      <th>717</th>\n",
       "      <td>1</td>\n",
       "      <td>27.0</td>\n",
       "      <td>48100.0</td>\n",
       "      <td>3</td>\n",
       "      <td>0</td>\n",
       "    </tr>\n",
       "    <tr>\n",
       "      <th>906</th>\n",
       "      <td>0</td>\n",
       "      <td>27.0</td>\n",
       "      <td>48100.0</td>\n",
       "      <td>0</td>\n",
       "      <td>0</td>\n",
       "    </tr>\n",
       "    <tr>\n",
       "      <th>1081</th>\n",
       "      <td>1</td>\n",
       "      <td>42.0</td>\n",
       "      <td>48100.0</td>\n",
       "      <td>0</td>\n",
       "      <td>1</td>\n",
       "    </tr>\n",
       "    <tr>\n",
       "      <th>1263</th>\n",
       "      <td>0</td>\n",
       "      <td>44.0</td>\n",
       "      <td>48100.0</td>\n",
       "      <td>0</td>\n",
       "      <td>1</td>\n",
       "    </tr>\n",
       "    <tr>\n",
       "      <th>1279</th>\n",
       "      <td>0</td>\n",
       "      <td>44.0</td>\n",
       "      <td>48100.0</td>\n",
       "      <td>3</td>\n",
       "      <td>1</td>\n",
       "    </tr>\n",
       "    <tr>\n",
       "      <th>1706</th>\n",
       "      <td>0</td>\n",
       "      <td>29.0</td>\n",
       "      <td>48100.0</td>\n",
       "      <td>3</td>\n",
       "      <td>0</td>\n",
       "    </tr>\n",
       "    <tr>\n",
       "      <th>1763</th>\n",
       "      <td>1</td>\n",
       "      <td>29.0</td>\n",
       "      <td>48100.0</td>\n",
       "      <td>2</td>\n",
       "      <td>0</td>\n",
       "    </tr>\n",
       "    <tr>\n",
       "      <th>2172</th>\n",
       "      <td>0</td>\n",
       "      <td>38.0</td>\n",
       "      <td>48100.0</td>\n",
       "      <td>1</td>\n",
       "      <td>0</td>\n",
       "    </tr>\n",
       "    <tr>\n",
       "      <th>2419</th>\n",
       "      <td>1</td>\n",
       "      <td>34.0</td>\n",
       "      <td>48100.0</td>\n",
       "      <td>0</td>\n",
       "      <td>0</td>\n",
       "    </tr>\n",
       "    <tr>\n",
       "      <th>3044</th>\n",
       "      <td>1</td>\n",
       "      <td>20.0</td>\n",
       "      <td>48100.0</td>\n",
       "      <td>2</td>\n",
       "      <td>0</td>\n",
       "    </tr>\n",
       "    <tr>\n",
       "      <th>3392</th>\n",
       "      <td>0</td>\n",
       "      <td>25.0</td>\n",
       "      <td>48100.0</td>\n",
       "      <td>0</td>\n",
       "      <td>0</td>\n",
       "    </tr>\n",
       "    <tr>\n",
       "      <th>4043</th>\n",
       "      <td>1</td>\n",
       "      <td>29.0</td>\n",
       "      <td>48100.0</td>\n",
       "      <td>2</td>\n",
       "      <td>0</td>\n",
       "    </tr>\n",
       "    <tr>\n",
       "      <th>4215</th>\n",
       "      <td>1</td>\n",
       "      <td>24.0</td>\n",
       "      <td>48100.0</td>\n",
       "      <td>2</td>\n",
       "      <td>0</td>\n",
       "    </tr>\n",
       "  </tbody>\n",
       "</table>\n",
       "</div>"
      ],
      "text/plain": [
       "      Gender   Age   Salary  Family members  Insurance payments\n",
       "69         1  39.0  48100.0               1                   0\n",
       "281        1  39.0  48100.0               1                   0\n",
       "434        1  32.0  48100.0               2                   0\n",
       "717        1  27.0  48100.0               3                   0\n",
       "906        0  27.0  48100.0               0                   0\n",
       "1081       1  42.0  48100.0               0                   1\n",
       "1263       0  44.0  48100.0               0                   1\n",
       "1279       0  44.0  48100.0               3                   1\n",
       "1706       0  29.0  48100.0               3                   0\n",
       "1763       1  29.0  48100.0               2                   0\n",
       "2172       0  38.0  48100.0               1                   0\n",
       "2419       1  34.0  48100.0               0                   0\n",
       "3044       1  20.0  48100.0               2                   0\n",
       "3392       0  25.0  48100.0               0                   0\n",
       "4043       1  29.0  48100.0               2                   0\n",
       "4215       1  24.0  48100.0               2                   0"
      ]
     },
     "execution_count": 14,
     "metadata": {},
     "output_type": "execute_result"
    }
   ],
   "source": [
    "data[data['Salary'] == 48100.0]"
   ]
  },
  {
   "cell_type": "markdown",
   "id": "5d68bc04",
   "metadata": {},
   "source": [
    "More of a coincidence than duplicates."
   ]
  },
  {
   "cell_type": "markdown",
   "id": "6a21196b",
   "metadata": {},
   "source": [
    "## Selection functions"
   ]
  },
  {
   "cell_type": "markdown",
   "id": "a011e213",
   "metadata": {},
   "source": [
    "Since the task is sampling and not training, we will describe the training procedure by functions."
   ]
  },
  {
   "cell_type": "code",
   "execution_count": 15,
   "id": "878ebbb4",
   "metadata": {},
   "outputs": [],
   "source": [
    "def test_LinearRegression(features_train, features_test, target_train, target_test):\n",
    "    model = LinearRegression()\n",
    "    model.fit(features_train, target_train)\n",
    "    predictions = model.predict(features_test)\n",
    "    \n",
    "    return r2_score(target_test, predictions)"
   ]
  },
  {
   "cell_type": "code",
   "execution_count": 16,
   "id": "62645268",
   "metadata": {},
   "outputs": [],
   "source": [
    "def test_DecisionTreeRegressor(features_train, features_test, target_train, target_test):\n",
    "    model = DecisionTreeRegressor()\n",
    "    params = {'max_depth': range(1, 30, 3)}\n",
    "    tree = GridSearchCV(model, params, cv=10, scoring='r2')\n",
    "    tree.fit(features_train, target_train)\n",
    "    predictions = tree.best_estimator_.predict(features_test)\n",
    "    \n",
    "    print(tree.best_params_)\n",
    "    return r2_score(target_test, predictions)"
   ]
  },
  {
   "cell_type": "code",
   "execution_count": 17,
   "id": "aba2b611",
   "metadata": {},
   "outputs": [],
   "source": [
    "def test_RandomForestRegressor(features_train, features_test, target_train, target_test):\n",
    "    model = RandomForestRegressor()\n",
    "    params = {'max_depth': range(1, 30, 7), 'n_estimators': range(1, 202, 50)}\n",
    "    forest = GridSearchCV(model, params, cv=5, scoring='r2')\n",
    "    forest.fit(features_train, target_train)\n",
    "    predictions = forest.best_estimator_.predict(features_test)\n",
    "    \n",
    "    # print(np.unique(predictions))\n",
    "    print(forest.best_params_)\n",
    "    return r2_score(target_test, predictions)"
   ]
  },
  {
   "cell_type": "markdown",
   "id": "750960d2",
   "metadata": {},
   "source": [
    "## Initial data"
   ]
  },
  {
   "cell_type": "code",
   "execution_count": 18,
   "id": "82cf02d8",
   "metadata": {},
   "outputs": [
    {
     "data": {
      "text/html": [
       "<div>\n",
       "<style scoped>\n",
       "    .dataframe tbody tr th:only-of-type {\n",
       "        vertical-align: middle;\n",
       "    }\n",
       "\n",
       "    .dataframe tbody tr th {\n",
       "        vertical-align: top;\n",
       "    }\n",
       "\n",
       "    .dataframe thead th {\n",
       "        text-align: right;\n",
       "    }\n",
       "</style>\n",
       "<table border=\"1\" class=\"dataframe\">\n",
       "  <thead>\n",
       "    <tr style=\"text-align: right;\">\n",
       "      <th></th>\n",
       "      <th>Gender</th>\n",
       "      <th>Age</th>\n",
       "      <th>Salary</th>\n",
       "      <th>Family members</th>\n",
       "      <th>Insurance payments</th>\n",
       "    </tr>\n",
       "  </thead>\n",
       "  <tbody>\n",
       "    <tr>\n",
       "      <th>0</th>\n",
       "      <td>1</td>\n",
       "      <td>41.0</td>\n",
       "      <td>49600.0</td>\n",
       "      <td>1</td>\n",
       "      <td>0</td>\n",
       "    </tr>\n",
       "    <tr>\n",
       "      <th>1</th>\n",
       "      <td>0</td>\n",
       "      <td>46.0</td>\n",
       "      <td>38000.0</td>\n",
       "      <td>1</td>\n",
       "      <td>1</td>\n",
       "    </tr>\n",
       "    <tr>\n",
       "      <th>2</th>\n",
       "      <td>0</td>\n",
       "      <td>29.0</td>\n",
       "      <td>21000.0</td>\n",
       "      <td>0</td>\n",
       "      <td>0</td>\n",
       "    </tr>\n",
       "    <tr>\n",
       "      <th>3</th>\n",
       "      <td>0</td>\n",
       "      <td>21.0</td>\n",
       "      <td>41700.0</td>\n",
       "      <td>2</td>\n",
       "      <td>0</td>\n",
       "    </tr>\n",
       "    <tr>\n",
       "      <th>4</th>\n",
       "      <td>1</td>\n",
       "      <td>28.0</td>\n",
       "      <td>26100.0</td>\n",
       "      <td>0</td>\n",
       "      <td>0</td>\n",
       "    </tr>\n",
       "    <tr>\n",
       "      <th>...</th>\n",
       "      <td>...</td>\n",
       "      <td>...</td>\n",
       "      <td>...</td>\n",
       "      <td>...</td>\n",
       "      <td>...</td>\n",
       "    </tr>\n",
       "    <tr>\n",
       "      <th>4995</th>\n",
       "      <td>0</td>\n",
       "      <td>28.0</td>\n",
       "      <td>35700.0</td>\n",
       "      <td>2</td>\n",
       "      <td>0</td>\n",
       "    </tr>\n",
       "    <tr>\n",
       "      <th>4996</th>\n",
       "      <td>0</td>\n",
       "      <td>34.0</td>\n",
       "      <td>52400.0</td>\n",
       "      <td>1</td>\n",
       "      <td>0</td>\n",
       "    </tr>\n",
       "    <tr>\n",
       "      <th>4997</th>\n",
       "      <td>0</td>\n",
       "      <td>20.0</td>\n",
       "      <td>33900.0</td>\n",
       "      <td>2</td>\n",
       "      <td>0</td>\n",
       "    </tr>\n",
       "    <tr>\n",
       "      <th>4998</th>\n",
       "      <td>1</td>\n",
       "      <td>22.0</td>\n",
       "      <td>32700.0</td>\n",
       "      <td>3</td>\n",
       "      <td>0</td>\n",
       "    </tr>\n",
       "    <tr>\n",
       "      <th>4999</th>\n",
       "      <td>1</td>\n",
       "      <td>28.0</td>\n",
       "      <td>40600.0</td>\n",
       "      <td>1</td>\n",
       "      <td>0</td>\n",
       "    </tr>\n",
       "  </tbody>\n",
       "</table>\n",
       "<p>5000 rows × 5 columns</p>\n",
       "</div>"
      ],
      "text/plain": [
       "      Gender   Age   Salary  Family members  Insurance payments\n",
       "0          1  41.0  49600.0               1                   0\n",
       "1          0  46.0  38000.0               1                   1\n",
       "2          0  29.0  21000.0               0                   0\n",
       "3          0  21.0  41700.0               2                   0\n",
       "4          1  28.0  26100.0               0                   0\n",
       "...      ...   ...      ...             ...                 ...\n",
       "4995       0  28.0  35700.0               2                   0\n",
       "4996       0  34.0  52400.0               1                   0\n",
       "4997       0  20.0  33900.0               2                   0\n",
       "4998       1  22.0  32700.0               3                   0\n",
       "4999       1  28.0  40600.0               1                   0\n",
       "\n",
       "[5000 rows x 5 columns]"
      ]
     },
     "execution_count": 18,
     "metadata": {},
     "output_type": "execute_result"
    }
   ],
   "source": [
    "data"
   ]
  },
  {
   "cell_type": "markdown",
   "id": "79300241",
   "metadata": {},
   "source": [
    "Let's separate the target feature."
   ]
  },
  {
   "cell_type": "code",
   "execution_count": 19,
   "id": "a5c730f7",
   "metadata": {},
   "outputs": [],
   "source": [
    "features = data.drop('Insurance payments', axis=1)\n",
    "target = data['Insurance payments']"
   ]
  },
  {
   "cell_type": "code",
   "execution_count": 20,
   "id": "68c006cf",
   "metadata": {},
   "outputs": [
    {
     "data": {
      "text/html": [
       "<div>\n",
       "<style scoped>\n",
       "    .dataframe tbody tr th:only-of-type {\n",
       "        vertical-align: middle;\n",
       "    }\n",
       "\n",
       "    .dataframe tbody tr th {\n",
       "        vertical-align: top;\n",
       "    }\n",
       "\n",
       "    .dataframe thead th {\n",
       "        text-align: right;\n",
       "    }\n",
       "</style>\n",
       "<table border=\"1\" class=\"dataframe\">\n",
       "  <thead>\n",
       "    <tr style=\"text-align: right;\">\n",
       "      <th></th>\n",
       "      <th>Gender</th>\n",
       "      <th>Age</th>\n",
       "      <th>Salary</th>\n",
       "      <th>Family members</th>\n",
       "    </tr>\n",
       "  </thead>\n",
       "  <tbody>\n",
       "    <tr>\n",
       "      <th>0</th>\n",
       "      <td>1</td>\n",
       "      <td>41.0</td>\n",
       "      <td>49600.0</td>\n",
       "      <td>1</td>\n",
       "    </tr>\n",
       "    <tr>\n",
       "      <th>1</th>\n",
       "      <td>0</td>\n",
       "      <td>46.0</td>\n",
       "      <td>38000.0</td>\n",
       "      <td>1</td>\n",
       "    </tr>\n",
       "    <tr>\n",
       "      <th>2</th>\n",
       "      <td>0</td>\n",
       "      <td>29.0</td>\n",
       "      <td>21000.0</td>\n",
       "      <td>0</td>\n",
       "    </tr>\n",
       "    <tr>\n",
       "      <th>3</th>\n",
       "      <td>0</td>\n",
       "      <td>21.0</td>\n",
       "      <td>41700.0</td>\n",
       "      <td>2</td>\n",
       "    </tr>\n",
       "    <tr>\n",
       "      <th>4</th>\n",
       "      <td>1</td>\n",
       "      <td>28.0</td>\n",
       "      <td>26100.0</td>\n",
       "      <td>0</td>\n",
       "    </tr>\n",
       "  </tbody>\n",
       "</table>\n",
       "</div>"
      ],
      "text/plain": [
       "   Gender   Age   Salary  Family members\n",
       "0       1  41.0  49600.0               1\n",
       "1       0  46.0  38000.0               1\n",
       "2       0  29.0  21000.0               0\n",
       "3       0  21.0  41700.0               2\n",
       "4       1  28.0  26100.0               0"
      ]
     },
     "execution_count": 20,
     "metadata": {},
     "output_type": "execute_result"
    }
   ],
   "source": [
    "features.head()"
   ]
  },
  {
   "cell_type": "code",
   "execution_count": 21,
   "id": "2136557a",
   "metadata": {},
   "outputs": [
    {
     "data": {
      "text/plain": [
       "0    0\n",
       "1    1\n",
       "2    0\n",
       "3    0\n",
       "4    0\n",
       "Name: Insurance payments, dtype: int64"
      ]
     },
     "execution_count": 21,
     "metadata": {},
     "output_type": "execute_result"
    }
   ],
   "source": [
    "target.head()"
   ]
  },
  {
   "cell_type": "markdown",
   "id": "ed191c86",
   "metadata": {},
   "source": [
    "## Multiplication by an invertible matrix"
   ]
  },
  {
   "cell_type": "markdown",
   "id": "c9ffd6e7",
   "metadata": {},
   "source": [
    "### Theory"
   ]
  },
  {
   "cell_type": "markdown",
   "id": "9c1b93e9",
   "metadata": {},
   "source": [
    "The linear regression prediction $y$ is calculated as\n",
    "\n",
    "$y = (x, w) + w_0 = \\sum \\limits_{i=1}^{n} w_ix_i + w_0$\n",
    "\n",
    "где \n",
    "- n – number of features\n",
    "- x – vector of features of the predicted object\n",
    "- w – vector of linear regression coefficients\n",
    "- w_0 – bias\n",
    "\n",
    "$ x = \n",
    "\\begin{pmatrix}\n",
    "x_1 \\\\\n",
    "x_2 \\\\\n",
    "... \\\\\n",
    "x_n\n",
    "\\end{pmatrix}, \n",
    "w = \n",
    "\\begin{pmatrix}\n",
    "w_1 \\\\\n",
    "w_2 \\\\\n",
    "... \\\\\n",
    "w_n\n",
    "\\end{pmatrix}\n",
    "$\n",
    "\n",
    "Suppose we predict k objects during training. Then the set of predictions k\n",
    "\n",
    "$\n",
    "\\begin{cases}\n",
    "y_1 = (x_1, w) + w_0 = \\sum \\limits_{i=1}^{n} w_{i}x_{1i} + w_0 \\\\\n",
    "y_2 = (x_2, w) + w_0 = \\sum \\limits_{i=1}^{n} w_{i}x_{2i} + w_0 \\\\\n",
    "... \\\\\n",
    "y_k = (x_k, w) + w_0 = \\sum \\limits_{i=1}^{n} w_{i}x_{ki} + w_0\n",
    "\\end{cases}\n",
    "$\n",
    "\n",
    "can be written as a matrix\n",
    "\n",
    "$\n",
    "\\begin{pmatrix}\n",
    "y_1 \\\\\n",
    "y_2 \\\\\n",
    "... \\\\\n",
    "y_k\n",
    "\\end{pmatrix} = \n",
    "\\begin{pmatrix}\n",
    "x_{11} & x_{12} & ... & x_{1n} \\\\\n",
    "x_{21} & x_{22} & ... & x_{2n} \\\\\n",
    "... & ... & ... & ...\\\\\n",
    "x_{k1} & x_{k2} & ... & x_{kn}\n",
    "\\end{pmatrix}\n",
    "\\begin{pmatrix}\n",
    "w_1 \\\\\n",
    "w_2 \\\\\n",
    "... \\\\\n",
    "w_n \n",
    "\\end{pmatrix}\n",
    " + \n",
    " \\begin{pmatrix}\n",
    "w_0 \\\\\n",
    "w_0 \\\\\n",
    "... \\\\\n",
    "w_0 \n",
    "\\end{pmatrix}\n",
    "$\n",
    "\n",
    "for short\n",
    "\n",
    "$y = Xw + w_0$"
   ]
  },
  {
   "cell_type": "markdown",
   "id": "81fe530b",
   "metadata": {},
   "source": [
    "During training, the vector of weights is calculated as\n",
    "\n",
    "$ \n",
    "w = (X^TX)^{-1}X^Ty\n",
    "$\n",
    "\n",
    "And in the case of multiplication by the matrix $P$\n",
    "\n",
    "$\n",
    "w_p = ((XP)^TXP)^{-1}(XP)^Ty\n",
    "$\n",
    "\n",
    "If we express one through the other, we get\n",
    "\n",
    "$\n",
    "w = (X^TX)^{-1}X^Ty \\\\\n",
    "w_p = ((XP)^TXP)^{-1}(XP)^Ty = (P^TX^TXP)^{-1}P^TX^Ty = P^{-1}(X^TX)^{-1}(P^T)^{-1}P^TX^Ty = P^{-1}(X^TX)^{-1}EX^Ty = P^{-1}(X^TX)^{-1}X^Ty = P^{-1}w\n",
    "$"
   ]
  },
  {
   "cell_type": "markdown",
   "id": "b6ae0315",
   "metadata": {},
   "source": [
    "Since the predictions are calculated as $y = Xw + w_0$, then for training on the updated features we receive that \n",
    "\n",
    "$y_p = XPw_p + w_0 = XPP^{-1}w + w_0 = XEw + w_0 = Xw + w_0 = y$.\n",
    "\n",
    "So, in theory, the quality won't change."
   ]
  },
  {
   "cell_type": "markdown",
   "id": "b2144fdb",
   "metadata": {},
   "source": [
    "### Algorithm"
   ]
  },
  {
   "cell_type": "markdown",
   "id": "8c050a0f",
   "metadata": {},
   "source": [
    "Thus, the conversion algorithm is as follows:"
   ]
  },
  {
   "attachments": {},
   "cell_type": "markdown",
   "id": "ccecc03e-031d-4592-a445-780ba23ce305",
   "metadata": {},
   "source": [
    "![110.png](https://github.com/LeonidDybovskij/yandex_all/blob/main/images/110.png)"
   ]
  },
  {
   "cell_type": "markdown",
   "id": "82d2f6a3",
   "metadata": {},
   "source": [
    "If we create a pair of two inverse matrices, we can multiply the features by one of them and use the second one as a key to get the initial data."
   ]
  },
  {
   "cell_type": "raw",
   "id": "0460f676",
   "metadata": {},
   "source": [
    "A = np.random.rand(features.shape[1], features.shape[1])\n",
    "# only square matrices are invertible\n",
    "A"
   ]
  },
  {
   "cell_type": "code",
   "execution_count": 22,
   "id": "2a902b8c",
   "metadata": {},
   "outputs": [
    {
     "data": {
      "text/plain": [
       "array([[-0.13105216, -0.2006461 , -1.69012289, -0.79441848],\n",
       "       [ 1.52800166,  2.23640541, -2.61151195,  0.76600939],\n",
       "       [ 1.74616801, -1.68913925, -0.26618848, -1.44891974],\n",
       "       [-0.93826531, -0.07550096, -0.70175721, -0.16063802]])"
      ]
     },
     "execution_count": 22,
     "metadata": {},
     "output_type": "execute_result"
    }
   ],
   "source": [
    "def get_rand_matrix():\n",
    "    det = 0\n",
    "    while det == 0:\n",
    "        matrix = np.random.normal(size=(features.shape[1], features.shape[1]))\n",
    "        det = np.linalg.det(matrix)\n",
    "    return matrix\n",
    "A = get_rand_matrix()\n",
    "A"
   ]
  },
  {
   "cell_type": "code",
   "execution_count": 23,
   "id": "e85e324d",
   "metadata": {},
   "outputs": [
    {
     "data": {
      "text/plain": [
       "array([[-0.44687662,  0.23647444,  0.36356486,  0.0583447 ],\n",
       "       [ 3.57434848, -0.76252343, -1.79872547, -5.08858204],\n",
       "       [ 1.34668722, -0.52493097, -0.7462739 , -2.43182951],\n",
       "       [-4.95290828,  1.27036914,  1.98202326,  6.44930704]])"
      ]
     },
     "execution_count": 23,
     "metadata": {},
     "output_type": "execute_result"
    }
   ],
   "source": [
    "A_inv = np.linalg.inv(A)\n",
    "A_inv"
   ]
  },
  {
   "cell_type": "code",
   "execution_count": 24,
   "id": "69caab2d",
   "metadata": {},
   "outputs": [
    {
     "data": {
      "text/plain": [
       "array([[ 1.00000000e+00,  0.00000000e+00,  0.00000000e+00,\n",
       "         0.00000000e+00],\n",
       "       [ 3.55271368e-15,  1.00000000e+00, -1.33226763e-15,\n",
       "        -1.77635684e-15],\n",
       "       [ 0.00000000e+00,  0.00000000e+00,  1.00000000e+00,\n",
       "         0.00000000e+00],\n",
       "       [-8.88178420e-16,  2.77555756e-16,  3.88578059e-16,\n",
       "         1.00000000e+00]])"
      ]
     },
     "execution_count": 24,
     "metadata": {},
     "output_type": "execute_result"
    }
   ],
   "source": [
    "np.dot(A, A_inv)"
   ]
  },
  {
   "cell_type": "markdown",
   "id": "a9f37aa1",
   "metadata": {},
   "source": [
    "The errors occur because Python stores a limited number of decimal places."
   ]
  },
  {
   "cell_type": "markdown",
   "id": "703c1b7c",
   "metadata": {},
   "source": [
    "Here's what it looks like for real data:"
   ]
  },
  {
   "cell_type": "code",
   "execution_count": 25,
   "id": "0fae2162",
   "metadata": {},
   "outputs": [
    {
     "data": {
      "text/plain": [
       "array([[ 86671.51194447, -83689.89035268, -13312.41241067,\n",
       "        -71835.96797909],\n",
       "       [ 66423.73411286, -64084.49237316, -10235.99349528,\n",
       "        -55023.87448204],\n",
       "       [ 36713.84021494, -35407.06850476,  -5665.69189801,\n",
       "        -30405.10035388],\n",
       "       ...,\n",
       "       [ 59223.77897175, -57217.24348743,  -9077.42317937,\n",
       "        -49103.38041338],\n",
       "       [ 57130.36404809, -55186.07972302,  -8765.611909  ,\n",
       "        -47364.09975817],\n",
       "       [ 70936.1358514 , -68516.71036801, -10882.76644755,\n",
       "        -58805.64840422]])"
      ]
     },
     "execution_count": 25,
     "metadata": {},
     "output_type": "execute_result"
    }
   ],
   "source": [
    "features_new = np.dot(features, A)\n",
    "features_new"
   ]
  },
  {
   "cell_type": "code",
   "execution_count": 26,
   "id": "57d89f0f",
   "metadata": {},
   "outputs": [
    {
     "data": {
      "text/plain": [
       "array([[ 1.00000000e+00,  4.10000000e+01,  4.96000000e+04,\n",
       "         1.00000000e+00],\n",
       "       [-5.82076609e-11,  4.60000000e+01,  3.80000000e+04,\n",
       "         1.00000000e+00],\n",
       "       [ 0.00000000e+00,  2.90000000e+01,  2.10000000e+04,\n",
       "         2.91038305e-11],\n",
       "       ...,\n",
       "       [ 0.00000000e+00,  2.00000000e+01,  3.39000000e+04,\n",
       "         2.00000000e+00],\n",
       "       [ 1.00000000e+00,  2.20000000e+01,  3.27000000e+04,\n",
       "         3.00000000e+00],\n",
       "       [ 1.00000000e+00,  2.80000000e+01,  4.06000000e+04,\n",
       "         1.00000000e+00]])"
      ]
     },
     "execution_count": 26,
     "metadata": {},
     "output_type": "execute_result"
    }
   ],
   "source": [
    "np.dot(features_new, A_inv)"
   ]
  },
  {
   "cell_type": "code",
   "execution_count": 27,
   "id": "9d155ed3",
   "metadata": {},
   "outputs": [],
   "source": [
    "features_back = pd.DataFrame(np.dot(features_new, A_inv).round().astype(int), \n",
    "                             columns=features.columns)"
   ]
  },
  {
   "cell_type": "code",
   "execution_count": 28,
   "id": "36b2f8ee",
   "metadata": {},
   "outputs": [
    {
     "data": {
      "text/html": [
       "<div>\n",
       "<style scoped>\n",
       "    .dataframe tbody tr th:only-of-type {\n",
       "        vertical-align: middle;\n",
       "    }\n",
       "\n",
       "    .dataframe tbody tr th {\n",
       "        vertical-align: top;\n",
       "    }\n",
       "\n",
       "    .dataframe thead th {\n",
       "        text-align: right;\n",
       "    }\n",
       "</style>\n",
       "<table border=\"1\" class=\"dataframe\">\n",
       "  <thead>\n",
       "    <tr style=\"text-align: right;\">\n",
       "      <th></th>\n",
       "      <th>Gender</th>\n",
       "      <th>Age</th>\n",
       "      <th>Salary</th>\n",
       "      <th>Family members</th>\n",
       "    </tr>\n",
       "  </thead>\n",
       "  <tbody>\n",
       "    <tr>\n",
       "      <th>0</th>\n",
       "      <td>1</td>\n",
       "      <td>41</td>\n",
       "      <td>49600</td>\n",
       "      <td>1</td>\n",
       "    </tr>\n",
       "    <tr>\n",
       "      <th>1</th>\n",
       "      <td>0</td>\n",
       "      <td>46</td>\n",
       "      <td>38000</td>\n",
       "      <td>1</td>\n",
       "    </tr>\n",
       "    <tr>\n",
       "      <th>2</th>\n",
       "      <td>0</td>\n",
       "      <td>29</td>\n",
       "      <td>21000</td>\n",
       "      <td>0</td>\n",
       "    </tr>\n",
       "    <tr>\n",
       "      <th>3</th>\n",
       "      <td>0</td>\n",
       "      <td>21</td>\n",
       "      <td>41700</td>\n",
       "      <td>2</td>\n",
       "    </tr>\n",
       "    <tr>\n",
       "      <th>4</th>\n",
       "      <td>1</td>\n",
       "      <td>28</td>\n",
       "      <td>26100</td>\n",
       "      <td>0</td>\n",
       "    </tr>\n",
       "    <tr>\n",
       "      <th>...</th>\n",
       "      <td>...</td>\n",
       "      <td>...</td>\n",
       "      <td>...</td>\n",
       "      <td>...</td>\n",
       "    </tr>\n",
       "    <tr>\n",
       "      <th>4995</th>\n",
       "      <td>0</td>\n",
       "      <td>28</td>\n",
       "      <td>35700</td>\n",
       "      <td>2</td>\n",
       "    </tr>\n",
       "    <tr>\n",
       "      <th>4996</th>\n",
       "      <td>0</td>\n",
       "      <td>34</td>\n",
       "      <td>52400</td>\n",
       "      <td>1</td>\n",
       "    </tr>\n",
       "    <tr>\n",
       "      <th>4997</th>\n",
       "      <td>0</td>\n",
       "      <td>20</td>\n",
       "      <td>33900</td>\n",
       "      <td>2</td>\n",
       "    </tr>\n",
       "    <tr>\n",
       "      <th>4998</th>\n",
       "      <td>1</td>\n",
       "      <td>22</td>\n",
       "      <td>32700</td>\n",
       "      <td>3</td>\n",
       "    </tr>\n",
       "    <tr>\n",
       "      <th>4999</th>\n",
       "      <td>1</td>\n",
       "      <td>28</td>\n",
       "      <td>40600</td>\n",
       "      <td>1</td>\n",
       "    </tr>\n",
       "  </tbody>\n",
       "</table>\n",
       "<p>5000 rows × 4 columns</p>\n",
       "</div>"
      ],
      "text/plain": [
       "      Gender  Age  Salary  Family members\n",
       "0          1   41   49600               1\n",
       "1          0   46   38000               1\n",
       "2          0   29   21000               0\n",
       "3          0   21   41700               2\n",
       "4          1   28   26100               0\n",
       "...      ...  ...     ...             ...\n",
       "4995       0   28   35700               2\n",
       "4996       0   34   52400               1\n",
       "4997       0   20   33900               2\n",
       "4998       1   22   32700               3\n",
       "4999       1   28   40600               1\n",
       "\n",
       "[5000 rows x 4 columns]"
      ]
     },
     "execution_count": 28,
     "metadata": {},
     "output_type": "execute_result"
    }
   ],
   "source": [
    "features_back"
   ]
  },
  {
   "cell_type": "code",
   "execution_count": 29,
   "id": "f8ec5294",
   "metadata": {},
   "outputs": [
    {
     "data": {
      "text/plain": [
       "Gender            5000\n",
       "Age               5000\n",
       "Salary            5000\n",
       "Family members    5000\n",
       "dtype: int64"
      ]
     },
     "execution_count": 29,
     "metadata": {},
     "output_type": "execute_result"
    }
   ],
   "source": [
    "(features_back == features.round().astype(int)).sum()"
   ]
  },
  {
   "cell_type": "markdown",
   "id": "9b87017f",
   "metadata": {},
   "source": [
    "### Implementation"
   ]
  },
  {
   "cell_type": "markdown",
   "id": "6ef364e2",
   "metadata": {},
   "source": [
    "Let's describe the algorithm of transformation by a function."
   ]
  },
  {
   "cell_type": "code",
   "execution_count": 30,
   "id": "dcba93ca",
   "metadata": {},
   "outputs": [],
   "source": [
    "def transform_features(features):\n",
    "    length = features.shape[1]\n",
    "    determinant = 0\n",
    "    while determinant == 0:\n",
    "        matrix = np.random.normal(size=(length, length))\n",
    "        determinant = np.linalg.det(matrix)\n",
    "    matrix_inv = np.linalg.inv(matrix)\n",
    "    features_transformed = pd.DataFrame(np.dot(features, matrix), \n",
    "                                        columns=features.columns, \n",
    "                                        index=features.index)\n",
    "    return features_transformed, matrix_inv"
   ]
  },
  {
   "cell_type": "markdown",
   "id": "d5cf8102",
   "metadata": {},
   "source": [
    "### Testing"
   ]
  },
  {
   "cell_type": "markdown",
   "id": "729666f0",
   "metadata": {},
   "source": [
    "Let's see if the prediction accuracy changes for such features."
   ]
  },
  {
   "cell_type": "code",
   "execution_count": 31,
   "id": "cff3f498",
   "metadata": {},
   "outputs": [
    {
     "data": {
      "text/html": [
       "<div>\n",
       "<style scoped>\n",
       "    .dataframe tbody tr th:only-of-type {\n",
       "        vertical-align: middle;\n",
       "    }\n",
       "\n",
       "    .dataframe tbody tr th {\n",
       "        vertical-align: top;\n",
       "    }\n",
       "\n",
       "    .dataframe thead th {\n",
       "        text-align: right;\n",
       "    }\n",
       "</style>\n",
       "<table border=\"1\" class=\"dataframe\">\n",
       "  <thead>\n",
       "    <tr style=\"text-align: right;\">\n",
       "      <th></th>\n",
       "      <th>Gender</th>\n",
       "      <th>Age</th>\n",
       "      <th>Salary</th>\n",
       "      <th>Family members</th>\n",
       "    </tr>\n",
       "  </thead>\n",
       "  <tbody>\n",
       "    <tr>\n",
       "      <th>0</th>\n",
       "      <td>1</td>\n",
       "      <td>41.0</td>\n",
       "      <td>49600.0</td>\n",
       "      <td>1</td>\n",
       "    </tr>\n",
       "    <tr>\n",
       "      <th>1</th>\n",
       "      <td>0</td>\n",
       "      <td>46.0</td>\n",
       "      <td>38000.0</td>\n",
       "      <td>1</td>\n",
       "    </tr>\n",
       "    <tr>\n",
       "      <th>2</th>\n",
       "      <td>0</td>\n",
       "      <td>29.0</td>\n",
       "      <td>21000.0</td>\n",
       "      <td>0</td>\n",
       "    </tr>\n",
       "    <tr>\n",
       "      <th>3</th>\n",
       "      <td>0</td>\n",
       "      <td>21.0</td>\n",
       "      <td>41700.0</td>\n",
       "      <td>2</td>\n",
       "    </tr>\n",
       "    <tr>\n",
       "      <th>4</th>\n",
       "      <td>1</td>\n",
       "      <td>28.0</td>\n",
       "      <td>26100.0</td>\n",
       "      <td>0</td>\n",
       "    </tr>\n",
       "  </tbody>\n",
       "</table>\n",
       "</div>"
      ],
      "text/plain": [
       "   Gender   Age   Salary  Family members\n",
       "0       1  41.0  49600.0               1\n",
       "1       0  46.0  38000.0               1\n",
       "2       0  29.0  21000.0               0\n",
       "3       0  21.0  41700.0               2\n",
       "4       1  28.0  26100.0               0"
      ]
     },
     "execution_count": 31,
     "metadata": {},
     "output_type": "execute_result"
    }
   ],
   "source": [
    "features.head()"
   ]
  },
  {
   "cell_type": "code",
   "execution_count": 32,
   "id": "43c3f078",
   "metadata": {},
   "outputs": [
    {
     "name": "stdout",
     "output_type": "stream",
     "text": [
      "(3750, 4)\n",
      "(1250, 4)\n",
      "(3750,)\n",
      "(1250,)\n"
     ]
    }
   ],
   "source": [
    "features_train, features_test, target_train, target_test = train_test_split(\n",
    "    features, target, random_state=57)\n",
    "print(features_train.shape)\n",
    "print(features_test.shape)\n",
    "print(target_train.shape)\n",
    "print(target_test.shape)"
   ]
  },
  {
   "cell_type": "code",
   "execution_count": 33,
   "id": "e4a519ea",
   "metadata": {},
   "outputs": [
    {
     "data": {
      "text/plain": [
       "0.4007021387970914"
      ]
     },
     "execution_count": 33,
     "metadata": {},
     "output_type": "execute_result"
    }
   ],
   "source": [
    "test_LinearRegression(features_train, features_test, target_train, target_test)"
   ]
  },
  {
   "cell_type": "markdown",
   "id": "7617f201",
   "metadata": {},
   "source": [
    "It's the same with the altered ones."
   ]
  },
  {
   "cell_type": "code",
   "execution_count": 34,
   "id": "5220c53f",
   "metadata": {},
   "outputs": [
    {
     "data": {
      "text/html": [
       "<div>\n",
       "<style scoped>\n",
       "    .dataframe tbody tr th:only-of-type {\n",
       "        vertical-align: middle;\n",
       "    }\n",
       "\n",
       "    .dataframe tbody tr th {\n",
       "        vertical-align: top;\n",
       "    }\n",
       "\n",
       "    .dataframe thead th {\n",
       "        text-align: right;\n",
       "    }\n",
       "</style>\n",
       "<table border=\"1\" class=\"dataframe\">\n",
       "  <thead>\n",
       "    <tr style=\"text-align: right;\">\n",
       "      <th></th>\n",
       "      <th>Gender</th>\n",
       "      <th>Age</th>\n",
       "      <th>Salary</th>\n",
       "      <th>Family members</th>\n",
       "    </tr>\n",
       "  </thead>\n",
       "  <tbody>\n",
       "    <tr>\n",
       "      <th>0</th>\n",
       "      <td>31799.646425</td>\n",
       "      <td>55420.433989</td>\n",
       "      <td>7276.989275</td>\n",
       "      <td>57516.057474</td>\n",
       "    </tr>\n",
       "    <tr>\n",
       "      <th>1</th>\n",
       "      <td>24392.097980</td>\n",
       "      <td>42452.596726</td>\n",
       "      <td>5590.386862</td>\n",
       "      <td>44073.767191</td>\n",
       "    </tr>\n",
       "    <tr>\n",
       "      <th>2</th>\n",
       "      <td>13486.920708</td>\n",
       "      <td>23459.794411</td>\n",
       "      <td>3094.203954</td>\n",
       "      <td>24358.729360</td>\n",
       "    </tr>\n",
       "    <tr>\n",
       "      <th>3</th>\n",
       "      <td>26708.174474</td>\n",
       "      <td>46598.239652</td>\n",
       "      <td>6101.904360</td>\n",
       "      <td>48347.040414</td>\n",
       "    </tr>\n",
       "    <tr>\n",
       "      <th>4</th>\n",
       "      <td>16745.963062</td>\n",
       "      <td>29160.386049</td>\n",
       "      <td>3836.804744</td>\n",
       "      <td>30269.412427</td>\n",
       "    </tr>\n",
       "  </tbody>\n",
       "</table>\n",
       "</div>"
      ],
      "text/plain": [
       "         Gender           Age       Salary  Family members\n",
       "0  31799.646425  55420.433989  7276.989275    57516.057474\n",
       "1  24392.097980  42452.596726  5590.386862    44073.767191\n",
       "2  13486.920708  23459.794411  3094.203954    24358.729360\n",
       "3  26708.174474  46598.239652  6101.904360    48347.040414\n",
       "4  16745.963062  29160.386049  3836.804744    30269.412427"
      ]
     },
     "execution_count": 34,
     "metadata": {},
     "output_type": "execute_result"
    }
   ],
   "source": [
    "features_new, matrix_inv = transform_features(features)\n",
    "features_new = pd.DataFrame(features_new, columns=features.columns, index=features.index)\n",
    "features_new.head()"
   ]
  },
  {
   "cell_type": "code",
   "execution_count": 35,
   "id": "82b9beb0",
   "metadata": {},
   "outputs": [
    {
     "data": {
      "text/plain": [
       "array([[-2.9775086 ,  0.18712483, -0.261403  ,  0.65182621],\n",
       "       [-2.82835236, -0.36686428,  0.05637248,  0.32333677],\n",
       "       [ 2.03389257,  0.31019515, -0.03835183, -0.76140484],\n",
       "       [ 4.114201  ,  0.21150594,  0.95742692, -0.57558834]])"
      ]
     },
     "execution_count": 35,
     "metadata": {},
     "output_type": "execute_result"
    }
   ],
   "source": [
    "matrix_inv"
   ]
  },
  {
   "cell_type": "code",
   "execution_count": 36,
   "id": "7c5e8fab",
   "metadata": {},
   "outputs": [
    {
     "name": "stdout",
     "output_type": "stream",
     "text": [
      "(3750, 4)\n",
      "(1250, 4)\n",
      "(3750,)\n",
      "(1250,)\n"
     ]
    }
   ],
   "source": [
    "features_train, features_test, target_train, target_test = train_test_split(\n",
    "    features_new, target, random_state=57)\n",
    "print(features_train.shape)\n",
    "print(features_test.shape)\n",
    "print(target_train.shape)\n",
    "print(target_test.shape)"
   ]
  },
  {
   "cell_type": "code",
   "execution_count": 37,
   "id": "bb468b62",
   "metadata": {},
   "outputs": [
    {
     "data": {
      "text/plain": [
       "0.40070213879750083"
      ]
     },
     "execution_count": 37,
     "metadata": {},
     "output_type": "execute_result"
    }
   ],
   "source": [
    "test_LinearRegression(features_train, features_test, target_train, target_test)"
   ]
  },
  {
   "cell_type": "markdown",
   "id": "8d174294",
   "metadata": {},
   "source": [
    "The quality hasn't decreased."
   ]
  },
  {
   "cell_type": "markdown",
   "id": "d9298480",
   "metadata": {},
   "source": [
    "## Conclusions"
   ]
  },
  {
   "cell_type": "markdown",
   "id": "e749449a",
   "metadata": {},
   "source": [
    "1. Multiplication by a square matrix according to the algorithm allows us to transform the data.\n",
    "2. Theoretically, the quality of linear regression should not decrease.\n",
    "3. According to the test results before and after the transformation, the R2-metric did not change."
   ]
  },
  {
   "cell_type": "code",
   "execution_count": null,
   "id": "c74942e5",
   "metadata": {},
   "outputs": [],
   "source": []
  }
 ],
 "metadata": {
  "kernelspec": {
   "display_name": "Python 3 (ipykernel)",
   "language": "python",
   "name": "python3"
  },
  "language_info": {
   "codemirror_mode": {
    "name": "ipython",
    "version": 3
   },
   "file_extension": ".py",
   "mimetype": "text/x-python",
   "name": "python",
   "nbconvert_exporter": "python",
   "pygments_lexer": "ipython3",
   "version": "3.10.14"
  },
  "toc": {
   "base_numbering": 1,
   "nav_menu": {},
   "number_sections": true,
   "sideBar": false,
   "skip_h1_title": true,
   "title_cell": "Table of Contents",
   "title_sidebar": "Contents",
   "toc_cell": true,
   "toc_position": {
    "height": "768px",
    "left": "10px",
    "top": "150px",
    "width": "369.594px"
   },
   "toc_section_display": true,
   "toc_window_display": true
  }
 },
 "nbformat": 4,
 "nbformat_minor": 5
}
